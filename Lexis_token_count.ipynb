{
 "cells": [
  {
   "cell_type": "markdown",
   "metadata": {},
   "source": [
    "### 지금까지 모은 기사 pickle 형태 데이터 합친 후 'Sentence' 기준 중복 제거 후 'Word_Count' (총 토큰 수) 확인"
   ]
  },
  {
   "cell_type": "code",
   "execution_count": 1,
   "metadata": {},
   "outputs": [],
   "source": [
    "import pandas as pd\n",
    "import os\n",
    "from tqdm import tqdm"
   ]
  },
  {
   "cell_type": "code",
   "execution_count": null,
   "metadata": {},
   "outputs": [],
   "source": [
    "path = 'C:\\\\Users\\\\USER\\\\Ars Praxia\\\\[T] 23-05-001 NIA AI 데이터셋 구축 - General\\\\06-수집데이터\\\\기사 데이터 일일 구축량 데이터\\\\all.pickle'\n",
    "file_list = os.listdir(path)\n",
    "data_frames = []\n",
    "\n",
    "for file_name in tqdm(file_list, desc ='Processing rows:'):\n",
    "    if file_name.endswith('.pickle'):\n",
    "        full_path = os.path.join(path, file_name)\n",
    "        df = pd.read_pickle(full_path)\n",
    "        if 'Token' in df.columns:\n",
    "            df = df.loc[:,:'Token']\n",
    "            data_frames.append(df)\n",
    "\n",
    "\n",
    "final_df = pd.concat(data_frames, ignore_index= True)\n",
    "final_df"
   ]
  },
  {
   "cell_type": "code",
   "execution_count": null,
   "metadata": {},
   "outputs": [],
   "source": [
    "final_df['Word_Count'].sum()"
   ]
  },
  {
   "cell_type": "code",
   "execution_count": null,
   "metadata": {},
   "outputs": [],
   "source": [
    "df = final_df.drop_duplicates(subset='Sentence') #중복 문장 제거\n",
    "df"
   ]
  },
  {
   "cell_type": "code",
   "execution_count": null,
   "metadata": {},
   "outputs": [],
   "source": [
    "df['Word_Count'].sum()"
   ]
  }
 ],
 "metadata": {
  "kernelspec": {
   "display_name": "Indonesia",
   "language": "python",
   "name": "python3"
  },
  "language_info": {
   "codemirror_mode": {
    "name": "ipython",
    "version": 3
   },
   "file_extension": ".py",
   "mimetype": "text/x-python",
   "name": "python",
   "nbconvert_exporter": "python",
   "pygments_lexer": "ipython3",
   "version": "3.11.3"
  }
 },
 "nbformat": 4,
 "nbformat_minor": 2
}
