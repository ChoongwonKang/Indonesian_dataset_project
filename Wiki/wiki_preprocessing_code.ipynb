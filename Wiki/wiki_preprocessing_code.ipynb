{
 "cells": [
  {
   "cell_type": "code",
   "execution_count": 1,
   "metadata": {},
   "outputs": [
    {
     "data": {
      "application/vnd.jupyter.widget-view+json": {
       "model_id": "b81882c6115440f39e359da9b7249dd5",
       "version_major": 2,
       "version_minor": 0
      },
      "text/plain": [
       "Downloading https://raw.githubusercontent.com/stanfordnlp/stanza-resources/main/resources_1.5.1.json:   0%|   …"
      ]
     },
     "metadata": {},
     "output_type": "display_data"
    },
    {
     "name": "stderr",
     "output_type": "stream",
     "text": [
      "2023-10-04 15:01:57 INFO: Downloading default packages for language: id (Indonesian) ...\n",
      "2023-10-04 15:01:58 INFO: File exists: C:\\Users\\USER\\stanza_resources\\id\\default.zip\n",
      "2023-10-04 15:02:00 INFO: Finished downloading models and saved to C:\\Users\\USER\\stanza_resources.\n",
      "2023-10-04 15:02:00 INFO: Checking for updates to resources.json in case models have been updated.  Note: this behavior can be turned off with download_method=None or download_method=DownloadMethod.REUSE_RESOURCES\n"
     ]
    },
    {
     "data": {
      "application/vnd.jupyter.widget-view+json": {
       "model_id": "5875306539984f25ac0f83422b54526e",
       "version_major": 2,
       "version_minor": 0
      },
      "text/plain": [
       "Downloading https://raw.githubusercontent.com/stanfordnlp/stanza-resources/main/resources_1.5.1.json:   0%|   …"
      ]
     },
     "metadata": {},
     "output_type": "display_data"
    },
    {
     "name": "stderr",
     "output_type": "stream",
     "text": [
      "2023-10-04 15:02:00 WARNING: Language id package default expects mwt, which has been added\n",
      "2023-10-04 15:02:00 INFO: Loading these models for language: id (Indonesian):\n",
      "=======================\n",
      "| Processor | Package |\n",
      "-----------------------\n",
      "| tokenize  | gsd     |\n",
      "| mwt       | gsd     |\n",
      "=======================\n",
      "\n",
      "2023-10-04 15:02:00 INFO: Using device: cpu\n",
      "2023-10-04 15:02:00 INFO: Loading: tokenize\n",
      "2023-10-04 15:02:00 INFO: Loading: mwt\n",
      "2023-10-04 15:02:00 INFO: Done loading processors!\n"
     ]
    }
   ],
   "source": [
    "import re\n",
    "import pandas as pd\n",
    "\n",
    "import stanza\n",
    "# Stanza 초기화\n",
    "stanza.download('id')  # 영어 모델 다운로드\n",
    "nlp = stanza.Pipeline('id', processors='tokenize')\n",
    "import os\n",
    "file_list=os.listdir()\n",
    "\n",
    "import os\n",
    "import pandas as pd\n",
    "\n",
    "from tqdm import tqdm"
   ]
  },
  {
   "cell_type": "code",
   "execution_count": null,
   "metadata": {},
   "outputs": [],
   "source": [
    "df = pd.read_csv('C:\\\\Users\\\\USER\\\\Ars Praxia\\\\[T] 23-05-001 NIA AI 데이터셋 구축 - General\\\\06-수집데이터\\\\위키 데이터\\\\20230920filterwiki_문장분리전.csv')\n",
    "df = df.dropna()\n",
    "df"
   ]
  },
  {
   "cell_type": "code",
   "execution_count": null,
   "metadata": {},
   "outputs": [],
   "source": [
    "def tokenizing(df):\n",
    "    max_length=5\n",
    "    new_rows = []\n",
    "    index=0\n",
    "    for index, row in tqdm(df.iterrows(), total=df.shape[0], desc=\"Processing rows\"):\n",
    "        index+=1\n",
    "        article_text = row['cleansing_text']\n",
    "        doc = nlp(article_text)\n",
    "        sen_id = 1  # 문장 ID를 1로 초기화\n",
    "        for sentence in doc.sentences:\n",
    "            new_row = row.copy()\n",
    "            new_row['Sentence'] = sentence.text\n",
    "            new_row['Token']= [token.text for token in sentence.tokens]\n",
    "            new_row['Word_Count'] = len(new_row['Token'])\n",
    "            new_row['Doc_ID']='20230816_wikidata_'+new_row['title']+'_000001'\n",
    "            new_row['Sen_ID'] = new_row['Doc_ID']+'_sen'+str('{:06d}'.format(sen_id))\n",
    "            new_row['Pub_Date']=new_row['date'][:10]\n",
    "            new_row['Title']=new_row['title']\n",
    "            new_row['Pub_Subj']=new_row['title']\n",
    "            new_rows.append(new_row)\n",
    "            sen_id += 1  # 문장 ID 증가\n",
    "\n",
    "    new_df = pd.DataFrame(new_rows)\n",
    "    new_df['Tokenized_Sentence']= new_df['Token'].apply(' '.join)\n",
    "    new_df['Col_Date']='2023-08-10'\n",
    "    new_df['Pub_Type']='Wikipedia'\n",
    "    new_df['Text']=new_df['cleansing_text']\n",
    "    new_df['Filename']='C:/Users/Juhee Kim/Ars Praxia/[T] 23-05-001 NIA AI 데이터셋 구축 - General/06-수집데이터/위키 데이터/rawdata/idwiki-20230720-pages-articles-multistream.xml'\n",
    "\n",
    "    new_df.drop_duplicates(subset='Sentence', inplace=True)\n",
    "    new_df.reset_index(drop=True, inplace=True)\n",
    "    new_df = new_df[['Doc_ID', 'Filename', 'Title', 'Pub_Type', 'Pub_Subj', 'Pub_Date', 'Col_Date', 'Sen_ID', 'Word_Count', 'Text', 'Sentence','Tokenized_Sentence' , 'Token']]\n",
    "    new_df = new_df[new_df['Token'].apply(lambda x: len(x) > max_length)]\n",
    "    return new_df"
   ]
  },
  {
   "cell_type": "code",
   "execution_count": null,
   "metadata": {},
   "outputs": [],
   "source": [
    "df_test= tokenizing(df)\n",
    "df_test.head()"
   ]
  }
 ],
 "metadata": {
  "kernelspec": {
   "display_name": "base",
   "language": "python",
   "name": "python3"
  },
  "language_info": {
   "codemirror_mode": {
    "name": "ipython",
    "version": 3
   },
   "file_extension": ".py",
   "mimetype": "text/x-python",
   "name": "python",
   "nbconvert_exporter": "python",
   "pygments_lexer": "ipython3",
   "version": "3.11.3"
  },
  "orig_nbformat": 4
 },
 "nbformat": 4,
 "nbformat_minor": 2
}
