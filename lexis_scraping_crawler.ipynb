{
 "cells": [
  {
   "cell_type": "markdown",
   "metadata": {},
   "source": [
    "# NIA 과제 인도네시아어 말뭉치 LexisNexis Crawler"
   ]
  },
  {
   "cell_type": "code",
   "execution_count": null,
   "metadata": {},
   "outputs": [
    {
     "name": "stdout",
     "output_type": "stream",
     "text": [
      "Requirement already satisfied: selenium in c:\\users\\user\\anaconda3\\lib\\site-packages (4.11.2)\n",
      "Requirement already satisfied: urllib3[socks]<3,>=1.26 in c:\\users\\user\\anaconda3\\lib\\site-packages (from selenium) (1.26.16)\n",
      "Requirement already satisfied: trio~=0.17 in c:\\users\\user\\anaconda3\\lib\\site-packages (from selenium) (0.22.2)\n",
      "Requirement already satisfied: trio-websocket~=0.9 in c:\\users\\user\\anaconda3\\lib\\site-packages (from selenium) (0.10.3)\n",
      "Requirement already satisfied: certifi>=2021.10.8 in c:\\users\\user\\anaconda3\\lib\\site-packages (from selenium) (2023.5.7)\n",
      "Requirement already satisfied: attrs>=20.1.0 in c:\\users\\user\\anaconda3\\lib\\site-packages (from trio~=0.17->selenium) (22.1.0)\n",
      "Requirement already satisfied: sortedcontainers in c:\\users\\user\\anaconda3\\lib\\site-packages (from trio~=0.17->selenium) (2.4.0)\n",
      "Requirement already satisfied: idna in c:\\users\\user\\anaconda3\\lib\\site-packages (from trio~=0.17->selenium) (3.4)\n",
      "Requirement already satisfied: outcome in c:\\users\\user\\anaconda3\\lib\\site-packages (from trio~=0.17->selenium) (1.2.0)\n",
      "Requirement already satisfied: sniffio in c:\\users\\user\\anaconda3\\lib\\site-packages (from trio~=0.17->selenium) (1.2.0)\n",
      "Requirement already satisfied: cffi>=1.14 in c:\\users\\user\\anaconda3\\lib\\site-packages (from trio~=0.17->selenium) (1.15.1)\n",
      "Requirement already satisfied: exceptiongroup in c:\\users\\user\\anaconda3\\lib\\site-packages (from trio-websocket~=0.9->selenium) (1.1.2)\n",
      "Requirement already satisfied: wsproto>=0.14 in c:\\users\\user\\anaconda3\\lib\\site-packages (from trio-websocket~=0.9->selenium) (1.2.0)\n",
      "Requirement already satisfied: PySocks!=1.5.7,<2.0,>=1.5.6 in c:\\users\\user\\anaconda3\\lib\\site-packages (from urllib3[socks]<3,>=1.26->selenium) (1.7.1)\n",
      "Requirement already satisfied: pycparser in c:\\users\\user\\anaconda3\\lib\\site-packages (from cffi>=1.14->trio~=0.17->selenium) (2.21)\n",
      "Requirement already satisfied: h11<1,>=0.9.0 in c:\\users\\user\\anaconda3\\lib\\site-packages (from wsproto>=0.14->trio-websocket~=0.9->selenium) (0.14.0)\n",
      "Note: you may need to restart the kernel to use updated packages.\n"
     ]
    }
   ],
   "source": [
    "#https://github.com/SergeyPirogov/webdriver_manager\n",
    "%pip install selenium\n",
    "%pip install webdriver_manager "
   ]
  },
  {
   "cell_type": "code",
   "execution_count": 7,
   "metadata": {},
   "outputs": [],
   "source": [
    "#IMPORT LIBRARIES\n",
    "\n",
    "from selenium import webdriver\n",
    "from selenium.common.exceptions import ElementClickInterceptedException\n",
    "from selenium.webdriver.common import by\n",
    "from selenium.webdriver.common.keys import Keys\n",
    "from selenium.common.exceptions import NoSuchElementException\n",
    "from selenium.webdriver.support.ui import WebDriverWait\n",
    "from selenium.webdriver.support import expected_conditions as EC\n",
    "from selenium.webdriver import ActionChains\n",
    "from selenium.webdriver.common.by import By\n",
    "from selenium.webdriver.chrome.service import Service\n",
    "from selenium.common.exceptions import TimeoutException\n",
    "from webdriver_manager.chrome import ChromeDriverManager\n",
    "from tqdm import tqdm\n",
    "\n",
    "import time\n",
    "import re\n",
    "import os\n",
    "import shutil\n",
    "import math\n",
    "import sys"
   ]
  },
  {
   "cell_type": "code",
   "execution_count": 13,
   "metadata": {},
   "outputs": [],
   "source": [
    "#DEFINE FUNCTIONS\n",
    "\n",
    "def initiate_driver(browsertype, download_path):\n",
    "    global driver\n",
    "    global wait\n",
    "    global actionChains\n",
    "\n",
    "    service = Service()\n",
    "    chrome_options = webdriver.ChromeOptions()\n",
    "    chrome_options.add_argument('--no-sandbox')\n",
    "    capabilities = {\n",
    "    'browserName': 'chrome',\n",
    "    'chromeOptions':  {\n",
    "        'useAutomationExtension': False,\n",
    "        'forceDevToolsScreenshot': True,\n",
    "        'args': ['--start-maximized', '--disable-infobars']\n",
    "    }\n",
    "    } \n",
    "    prefs = {\n",
    "        \"profile.managed_default_content_settings.images\": 2,\n",
    "        \"profile.default_content_settings.popups\" : 0,\n",
    "        \"profile.default_content_setting_values.automatic_downloads\" : 1,\n",
    "        \"download.prompt_for_download\": 'False',\n",
    "        \"download.default_directory\" : download_path,\n",
    "        \"download.directory_upgrade\": True,\n",
    "        \"safebrowsing.1enabled\": True\n",
    "        }\n",
    "    chrome_options.add_experimental_option(\"prefs\", prefs)\n",
    "\n",
    "    if browsertype == 'chromium':\n",
    "        driver = webdriver.Chrome(executable_path='/snap/bin/chromium.chromedriver', options=chrome_options)\n",
    "    elif browsertype == 'chrome':\n",
    "        driver = webdriver.Chrome(service=service, options=chrome_options)\n",
    "\n",
    "    wait = WebDriverWait(driver, 300)\n",
    "    actionChains = ActionChains(driver)\n",
    "    driver.maximize_window()\n",
    "\n",
    "#로그인 자동화\n",
    "def login(id, pw) :\n",
    "    driver.find_element(By.XPATH, '//*[@id=\"userid\"]').send_keys(id)\n",
    "    driver.find_element(By.XPATH,'//*[@id=\"password\"]').send_keys(pw)\n",
    "    driver.implicitly_wait(1)\n",
    "    driver.find_element(By.XPATH,'//input[@id=\"signInSbmtBtn\"]').send_keys(Keys.ENTER)\n",
    "    time.sleep(10)\n",
    "    print('Finish login')\n",
    "\n",
    "#다음 화면으로 넘어갈 때 까지 대기\n",
    "def waitforspinner():\n",
    "    wait.until(EC.invisibility_of_element_located((By.XPATH, '//div[@class=\"box spinner-interactive\"]')))\n",
    "\n",
    "#홈페이지 열기\n",
    "def open_url(url):\n",
    "    time.sleep(20)\n",
    "    driver.get(url)\n",
    "\n",
    "#캡션 선택\n",
    "def click_link(navigate_links):\n",
    "    for link_caption in navigate_links:\n",
    "        print('Clicking ' + link_caption)\n",
    "        linkje = wait.until(EC.element_to_be_clickable((By.XPATH, f'//a[@data-text=\"{link_caption}\"]')))\n",
    "        linkje.click()\n",
    "\n",
    "def select_source(sources):\n",
    "    if media == [] or  media[0] == 'all':\n",
    "        pass\n",
    "    else:\n",
    "        print('Selecting source button')\n",
    "        wait.until(EC.element_to_be_clickable((By.XPATH, \"//input[@name='allsources']\")))\n",
    "        driver.find_element_by_xpath(\"//input[@name='allsources'][@ng-reflect-value='false']\").click()\n",
    "        time.sleep(1)\n",
    "        if driver.find_element(By.XPATH, \"//input[@name='allsources'][@ng-reflect-value='false']\").is_selected() == False:\n",
    "            driver.find_element(By.XPATH, \"//input[@name='allsources'][@ng-reflect-value='false']\").click()\n",
    "        for source in sources:\n",
    "            print('Selecting ' + source)\n",
    "            linkje = wait.until(EC.element_to_be_clickable((By.XPATH, f\"//input[@aria-label='{source}']\")))\n",
    "            linkje.send_keys(Keys.SPACE)\n",
    "\n",
    "def enter_query(keywords):\n",
    "    print('Entering Query: ' + keywords)\n",
    "    driver.find_element(By.XPATH,\"//*[@id='searchTerms']\").send_keys(keywords)\n",
    "    driver.implicitly_wait(1)\n",
    "    driver.find_element(By.XPATH,\"//*[@id='searchTerms']\").send_keys(Keys.ENTER)\n",
    "    driver.implicitly_wait(2)\n",
    "    print('Waiting for results to load')\n",
    "\n",
    "#인도네시아어 선택\n",
    "def filter_language(language):\n",
    "    lan_btn = '//button[@aria-label=\"Expand Language\"]'\n",
    "    wait.until(EC.presence_of_element_located((By.XPATH, lan_btn)))\n",
    "    time.sleep(5)\n",
    "    driver.execute_script(\"arguments[0].click();\",driver.find_element(By.XPATH, lan_btn))\n",
    "    time.sleep(5)\n",
    "    print('Indonesian selected')\n",
    "\n",
    "    #more_btn\n",
    "    try:\n",
    "        driver.find_element(By.XPATH, '//div[@class=\"lessmore\"]/button').click()\n",
    "    except:\n",
    "        pass\n",
    "\n",
    "    wait.until(EC.element_to_be_clickable((By.XPATH, f\"//label[@title='{language}']\")))\n",
    "    # 인도네시아 선택 버튼 클릭 5번 반복실행\n",
    "    for _ in range(5):\n",
    "        driver.find_element(By.XPATH, f\"//label[@title='{language}']\").click()\n",
    "        time.sleep(5)  # 5번의 각 클릭 사이마다 5초 휴식\n",
    "\n",
    "    close_btn = '//button[@aria-label=\"Collapse Language\"]'\n",
    "    wait.until(EC.presence_of_element_located((By.XPATH, close_btn)))\n",
    "    driver.execute_script(\"arguments[0].click();\",driver.find_element(By.XPATH, close_btn))\n",
    "    driver.implicitly_wait(5)\n",
    "    waitforspinner()\n",
    "    \n",
    "    #뉴스 카테고리 선택\n",
    "def select_category():\n",
    "    driver.find_element(By.XPATH, '//*[@id=\"startincontentbutton\"]').click()\n",
    "    driver.find_element(By.XPATH, '//*[@id=\"kwkmk\"]/header/div/div/span/div/div[2]/ul/li[8]/button/span/span[1]').click()\n",
    "    time.sleep(5)\n",
    "    print(\"News category selected\")\n",
    "\n",
    "def filter_publication(type_list):\n",
    "    print('publication type : ' , type_list)\n",
    "    pub_btn = '//button[@aria-label=\"Expand Publication Type\"]'\n",
    "    driver.execute_script(\"arguments[0].click();\",driver.find_element_by_xpath(pub_btn))\n",
    "    time.sleep(1)\n",
    "\n",
    "    for type in type_list:\n",
    "        linkpub = wait.until(EC.element_to_be_clickable((By.XPATH, f\"//label[@title='{type}']\")))\n",
    "        linkpub .send_keys(Keys.SPACE)\n",
    "    \n",
    "    close_btn = '//button[@aria-label=\"Collapse Publication Type\"]'\n",
    "    wait.until(EC.presence_of_element_located((By.XPATH, close_btn)))\n",
    "    driver.execute_script(\"arguments[0].click();\",driver.find_element_by_xpath(close_btn))\n",
    "    driver.implicitly_wait(3)\n",
    "    waitforspinner()\n",
    "\n",
    "    #날짜 지정\n",
    "def filter_date(start_date, end_date):\n",
    "    tl_btn = '//button[@aria-label=\"Expand Timeline\"]'\n",
    "    wait.until(EC.presence_of_element_located((By.XPATH, tl_btn)))\n",
    "    driver.execute_script(\"arguments[0].click();\",driver.find_element(By.XPATH, tl_btn))\n",
    "    time.sleep(10)\n",
    "\n",
    "    #시작년도\n",
    "    st_date = driver.find_element(By.XPATH, '//div[@class=\"date-form-group\"]/div[1]/datepicker/div/input')\n",
    "    for x in range(10): #clear()와Keys.CONTRAL + \"a\"작동이 안됨. for문을 통해 백스페이스로 지우기\n",
    "        st_date.send_keys(Keys.BACKSPACE)\n",
    "\n",
    "    st_date.send_keys(start_date)\n",
    "    #마지막년도\n",
    "    ed_date = driver.find_element(By.XPATH, '//div[@class=\"date-form-group\"]/div[2]/datepicker/div/input')\n",
    "\n",
    "    for x in range(10):\n",
    "        ed_date.send_keys(Keys.BACKSPACE)\n",
    "    ed_date.send_keys(end_date)\n",
    "    ed_date.send_keys(Keys.TAB)\n",
    "\n",
    "    #날짜설정 확인클릭\n",
    "    dt_btn = driver.find_element(By.XPATH, '//div[@class=\"date-form-input\"]/button')\n",
    "    driver.execute_script(\"arguments[0].click();\",dt_btn)\n",
    "    driver.implicitly_wait(3)\n",
    "\n",
    "    waitforspinner()\n",
    "    print(\"Date filtered\")\n",
    "\n",
    "def sort_results(ranking): #Check amount of search results and sort from new to old\n",
    "    waitforspinner()\n",
    "    wait.until(EC.element_to_be_clickable((By.XPATH, '//*[@id=\"sortbymenulabel\"]')))\n",
    "    driver.find_element(By.XPATH, '//*[@id=\"sortbymenulabel\"]').click()\n",
    "    driver.implicitly_wait(1)\n",
    "\n",
    "    editsort = wait.until(EC.element_to_be_clickable((By.XPATH, '//button[@data-action=\"editsort\"]')))\n",
    "    editsort.click()\n",
    "\n",
    "    wait.until(EC.element_to_be_clickable((By.XPATH, '//*[@id=\"mainSettings\"]/div[2]/div/div[2]/div[1]/settingsgeneral/div/section[2]/select/option[3]')))\n",
    "    driver.find_element(By.XPATH, '//*[@id=\"mainSettings\"]/div[2]/div/div[2]/div[1]/settingsgeneral/div/section[2]/select/option[3]').click()\n",
    "    driver.implicitly_wait(3)\n",
    "\n",
    "    if ranking == 'newest':\n",
    "        driver.find_element(By.XPATH, '//select[@id=\"sort-by-dropdown-2\"]/option[text()=\"Date (newest-oldest)\"]').click()\n",
    "    elif ranking == 'oldest':\n",
    "        driver.find_element(By.XPATH, '//select[@id=\"sort-by-dropdown-2\"]/option[text()=\"Date (oldest-newest)\"]').click()\n",
    "    \n",
    "    #Click save\n",
    "    button_save = '//*[@id=\"saveChangesButton\"]'\n",
    "    wait.until(EC.element_to_be_clickable((By.XPATH, button_save)))\n",
    "    driver.find_element(By.XPATH, button_save).click()\n",
    "    \n",
    "    waitforspinner()\n",
    "\n",
    "def count_results():\n",
    "    global last_page\n",
    "    \n",
    "    label_results = driver.find_element(By.XPATH, '//*[@id=\"content\"]/header/h2/span').text\n",
    "    print('Output ' + label_results)\n",
    "    \n",
    "    resultcount = int(re.sub('[^0-9]+', '', label_results))\n",
    "    last_page = math.ceil(resultcount / 50)\n",
    "\n",
    "    print(last_page)\n",
    "    print('Found ' + str(resultcount) + ' articles on ' + str(last_page) + ' pages')\n",
    "\n",
    "def filter_duplicates():\n",
    "    print('Enabling duplicate filter')\n",
    "    dropdown_duplicate = \"//button[@class='current trigger collapsed icon la-TriangleDownAfter']\"\n",
    "    wait.until(EC.element_to_be_clickable((By.XPATH, dropdown_duplicate)))\n",
    "    driver.find_element(By.XPATH, dropdown_duplicate).click()\n",
    "    driver.implicitly_wait(1)\n",
    "    driver.find_element(By.XPATH, \"//button[@data-value='moderate']\").click()\n",
    "\n",
    "    waitforspinner()\n",
    "\n",
    "def selectallarticles():\n",
    "    waitforspinner()\n",
    "    wait.until(EC.visibility_of_element_located((By.XPATH, '//*[@data-action=\"selectall\"]')))\n",
    "    driver.find_element(By.XPATH, '//*[@data-action=\"selectall\"]').send_keys(Keys.SPACE)\n",
    "    time.sleep(1)\n",
    "    if driver.find_element(By.XPATH, '//*[@data-action=\"selectall\"]').is_selected() == False:\n",
    "        driver.find_element(By.XPATH, '//*[@data-action=\"selectall\"]').send_keys(Keys.SPACE)\n",
    "    wait.until(EC.visibility_of_element_located((By.XPATH, '//*[@class=\"select more\"]')))\n",
    "    print(\"selected all\")\n",
    "\n",
    "def opendownloaddialog():\n",
    "    wait.until(EC.visibility_of_element_located((By.XPATH, '//*[@data-action=\"downloadopt\"]')))\n",
    "    driver.find_element(By.XPATH, '//*[@data-action=\"downloadopt\"]').send_keys(Keys.SPACE)\n",
    "\n",
    "def setdoctype(doctype):\n",
    "    wait.until(EC.visibility_of_element_located((By.XPATH, '//*[@data-action=\"download\"]')))\n",
    "    if doctype == 'docx':    \n",
    "        driver.find_element(By.XPATH, '//*[@id=\"Docx\"]').click() #select Docx format\"\n",
    "    elif doctype == 'rtf':\n",
    "        driver.find_element(By.XPATH, '//*[@id=\"Rtf\"]').click() #select Rtf format\"\n",
    "    elif doctype == 'pdf':\n",
    "        driver.find_element(By.XPATH, '//*[@id=\"Pdf\"]').click() #select Rtf format\"\n",
    "\n",
    "def clickdownload():\n",
    "    wait.until(EC.visibility_of_element_located((By.XPATH, '//*[@data-action=\"download\"]')))\n",
    "    driver.find_element(By.CSS_SELECTOR, 'body > aside > footer > div > button.button.primary').send_keys(Keys.SPACE)\n",
    "\n",
    "def downloadf():\n",
    "    selectallarticles()\n",
    "    opendownloaddialog()\n",
    "    \n",
    "    global download_settings\n",
    "    download_settings=True\n",
    "    if download_settings is False:\n",
    "    \n",
    "        # Formatting options for LexisNexisTools\n",
    "        driver.find_element(By.XPATH, '//*[@id=\"tab-FormattingOptions\"]').click()\n",
    "        time.sleep(1)\n",
    "        driver.find_element(By.XPATH, '//*[@id=\"DisplayFirstLastNameEnabled\"]').click()\n",
    "        driver.find_element(By.XPATH, '//*[@id=\"EmbeddedReferences\"]').click()\n",
    "\n",
    "        download_settings = True\n",
    "    clickdownload()\n",
    "\n",
    "    try:\n",
    "        #Wait for the job description box to appear\n",
    "        wait.until(EC.visibility_of_element_located((By.XPATH, '//span[@class=\"status-message success\"]')))\n",
    "        \n",
    "        #Wait for job description dialog to disappear\n",
    "        wait.until(EC.invisibility_of_element_located((By.XPATH, '//span[@class=\"status-message success\"]')))\n",
    "    except:\n",
    "        driver.refresh()\n",
    "        selectallarticles()\n",
    "        opendownloaddialog()\n",
    "        clickdownload()\n",
    "\n",
    "    i = 1\n",
    "    while not len([fname for fname in os.listdir() if re.match('Files\\(\\d+\\).?[.DOCX]', fname)])!=0:\n",
    "        i += 1\n",
    "        time.sleep(0.5)\n",
    "        if i > 50:\n",
    "            print('keep going')\n",
    "            break \n",
    "\n",
    "def start_downloading():\n",
    "    global num\n",
    "    for num in tqdm(range(0, (last_page))):\n",
    "        time.sleep(1)\n",
    "        downloadf()\n",
    "        try:\n",
    "            driver.find_element(By.XPATH, \"//a[@data-action='nextpage']\").click()\n",
    "            waitforspinner()\n",
    "        except:\n",
    "            print('Seems like there are no more pages left')\n",
    "            break\n",
    "            \n",
    "def select_50data():\n",
    "    driver.find_element(By.XPATH, '//*[@id=\"sortbymenulabel\"]').click()\n",
    "    driver.implicitly_wait(3)\n",
    "        \n",
    "    driver.find_element(By.XPATH, '//*[@id=\"results-list-delivery-toolbar\"]/div/ul[2]/li/div/div/button[6]/span').click()\n",
    "    driver.implicitly_wait(3)\n",
    "    \n",
    "    driver.find_element(By.XPATH, '//*[@id=\"mainSettings\"]/div[2]/div/div[2]/div[1]/settingsgeneral/div/section[2]/select/option[3]').click()\n",
    "    driver.implicitly_wait(3)\n",
    "    \n",
    "    driver.find_element(By.XPATH, '//*[@id=\"saveChangesButton\"]').click()\n",
    "    driver.implicitly_wait(3)\n",
    "    \n",
    "    driver.find_element(By.XPATH, '//*[@id=\"sortbymenulabel\"]').click()\n",
    "    driver.find_element(By.XPATH, '//*[@id=\"results-list-delivery-toolbar\"]/div/ul[2]/li/div/div/button[5]').click()\n",
    "\n",
    "#ACTION PARAMETERS\n",
    "start_page = \"https://advance.lexis.com\" #Open url\n",
    "second_page = \"https://advance.lexis.com/search/?pdmfid=1000516&crid=a41fdcd5-3aeb-4988-ad79-e6ae28a5c878&pdsearchterms=Lovelyz&pdtypeofsearch=searchboxclick&pdsearchtype=SearchBox&pdstartin=&pdpsf=&pdqttype=and&pdquerytemplateid=&ecomp=yd1vkkk&earg=pdsf&prid=38726445-36c3-4e06-8848-988ffadd1419\" \n",
    "ID = 'minwoo@arspraxia.com' #Enter ID & Password\n",
    "Password='treum8864!'\n",
    "start_date = \"01/01/2013\" #Set up date for filtering \n",
    "end_date = \"05/01/2023\"\n",
    "language='Indonesian' #Set up language to Indonesian\n",
    "download_path= 'C:\\\\Users\\\\USER\\\\Ars Praxia\\\\[T] 23-05-001 NIA AI 데이터셋 구축 - General\\\\06-수집데이터\\\\기사 데이터\\\\20230927_data\\\\data_Lovelyz' #Set up download path\n",
    "\n",
    "def automation():\n",
    "    initiate_driver('chrome', download_path) #Type either chrome or chromium depending on webdriver\n",
    "    open_url(start_page) #홈페이지 열기\n",
    "    login(ID, Password) #자동 로그인\n",
    "    open_url(second_page) #두번째 페이지 창 열기\n",
    "    time.sleep(3)\n",
    "    select_category() #카테고리 선택\n",
    "    filter_date(start_date, end_date) #날짜 지정\n",
    "    filter_language(language) #언어 선택\n",
    "    time.sleep(10)\n",
    "    count_results() #페이지 문서 전체 선택\n",
    "    start_downloading() #선택한 문서 다운로드"
   ]
  },
  {
   "cell_type": "markdown",
   "metadata": {},
   "source": [
    "### 20230802 최신화 => 정상 작동중\n",
    "### 20230927 최신화"
   ]
  },
  {
   "cell_type": "code",
   "execution_count": 12,
   "metadata": {},
   "outputs": [
    {
     "name": "stdout",
     "output_type": "stream",
     "text": [
      "Finish login\n",
      "News category selected\n",
      "Date filtered\n",
      "Indonesian selected\n",
      "Output News (400)\n",
      "8\n",
      "Found 400 articles on 8 pages\n"
     ]
    },
    {
     "name": "stderr",
     "output_type": "stream",
     "text": [
      "  0%|          | 0/8 [00:00<?, ?it/s]"
     ]
    },
    {
     "name": "stdout",
     "output_type": "stream",
     "text": [
      "selected all\n",
      "oh oh not good\n"
     ]
    },
    {
     "name": "stderr",
     "output_type": "stream",
     "text": [
      " 12%|█▎        | 1/8 [00:54<06:20, 54.37s/it]"
     ]
    },
    {
     "name": "stdout",
     "output_type": "stream",
     "text": [
      "selected all\n",
      "oh oh not good\n"
     ]
    },
    {
     "name": "stderr",
     "output_type": "stream",
     "text": [
      " 25%|██▌       | 2/8 [01:53<05:43, 57.29s/it]"
     ]
    },
    {
     "name": "stdout",
     "output_type": "stream",
     "text": [
      "selected all\n",
      "oh oh not good\n"
     ]
    },
    {
     "name": "stderr",
     "output_type": "stream",
     "text": [
      " 38%|███▊      | 3/8 [02:53<04:51, 58.21s/it]"
     ]
    },
    {
     "name": "stdout",
     "output_type": "stream",
     "text": [
      "selected all\n",
      "oh oh not good\n"
     ]
    },
    {
     "name": "stderr",
     "output_type": "stream",
     "text": [
      " 50%|█████     | 4/8 [03:52<03:54, 58.70s/it]"
     ]
    },
    {
     "name": "stdout",
     "output_type": "stream",
     "text": [
      "selected all\n",
      "oh oh not good\n"
     ]
    },
    {
     "name": "stderr",
     "output_type": "stream",
     "text": [
      " 62%|██████▎   | 5/8 [04:51<02:56, 58.89s/it]"
     ]
    },
    {
     "name": "stdout",
     "output_type": "stream",
     "text": [
      "selected all\n",
      "oh oh not good\n"
     ]
    },
    {
     "name": "stderr",
     "output_type": "stream",
     "text": [
      " 75%|███████▌  | 6/8 [05:49<01:56, 58.36s/it]"
     ]
    },
    {
     "name": "stdout",
     "output_type": "stream",
     "text": [
      "selected all\n",
      "oh oh not good\n"
     ]
    },
    {
     "name": "stderr",
     "output_type": "stream",
     "text": [
      " 88%|████████▊ | 7/8 [06:48<00:58, 58.70s/it]"
     ]
    },
    {
     "name": "stdout",
     "output_type": "stream",
     "text": [
      "selected all\n",
      "oh oh not good\n"
     ]
    },
    {
     "name": "stderr",
     "output_type": "stream",
     "text": [
      "100%|██████████| 8/8 [07:48<00:00, 58.51s/it]\n"
     ]
    }
   ],
   "source": [
    "#START AUTOMATION\n",
    "automation()"
   ]
  },
  {
   "cell_type": "code",
   "execution_count": 16,
   "metadata": {},
   "outputs": [
    {
     "name": "stdout",
     "output_type": "stream",
     "text": [
      "Output News (758)\n",
      "16\n",
      "Found 758 articles on 16 pages\n"
     ]
    },
    {
     "name": "stderr",
     "output_type": "stream",
     "text": [
      "  0%|          | 0/16 [00:00<?, ?it/s]"
     ]
    },
    {
     "name": "stdout",
     "output_type": "stream",
     "text": [
      "selected all\n",
      "oh oh not good\n"
     ]
    },
    {
     "name": "stderr",
     "output_type": "stream",
     "text": [
      "  6%|▋         | 1/16 [00:58<14:37, 58.47s/it]"
     ]
    },
    {
     "name": "stdout",
     "output_type": "stream",
     "text": [
      "selected all\n",
      "oh oh not good\n"
     ]
    },
    {
     "name": "stderr",
     "output_type": "stream",
     "text": [
      " 12%|█▎        | 2/16 [01:59<14:00, 60.04s/it]"
     ]
    },
    {
     "name": "stdout",
     "output_type": "stream",
     "text": [
      "selected all\n",
      "oh oh not good\n"
     ]
    },
    {
     "name": "stderr",
     "output_type": "stream",
     "text": [
      " 19%|█▉        | 3/16 [03:46<17:39, 81.52s/it]"
     ]
    },
    {
     "name": "stdout",
     "output_type": "stream",
     "text": [
      "selected all\n",
      "oh oh not good\n"
     ]
    },
    {
     "name": "stderr",
     "output_type": "stream",
     "text": [
      " 25%|██▌       | 4/16 [04:46<14:36, 73.04s/it]"
     ]
    },
    {
     "name": "stdout",
     "output_type": "stream",
     "text": [
      "selected all\n",
      "oh oh not good\n"
     ]
    },
    {
     "name": "stderr",
     "output_type": "stream",
     "text": [
      " 31%|███▏      | 5/16 [05:46<12:31, 68.33s/it]"
     ]
    },
    {
     "name": "stdout",
     "output_type": "stream",
     "text": [
      "selected all\n",
      "oh oh not good\n"
     ]
    },
    {
     "name": "stderr",
     "output_type": "stream",
     "text": [
      " 38%|███▊      | 6/16 [06:46<10:55, 65.50s/it]"
     ]
    },
    {
     "name": "stdout",
     "output_type": "stream",
     "text": [
      "selected all\n",
      "oh oh not good\n"
     ]
    },
    {
     "name": "stderr",
     "output_type": "stream",
     "text": [
      " 44%|████▍     | 7/16 [07:41<09:17, 61.97s/it]"
     ]
    },
    {
     "name": "stdout",
     "output_type": "stream",
     "text": [
      "selected all\n"
     ]
    }
   ],
   "source": [
    "#tqdm이 먼저 끝날 시 사용\n",
    "count_results()\n",
    "start_downloading()"
   ]
  }
 ],
 "metadata": {
  "kernelspec": {
   "display_name": "Python 3.9.6 ('base')",
   "language": "python",
   "name": "python3"
  },
  "language_info": {
   "codemirror_mode": {
    "name": "ipython",
    "version": 3
   },
   "file_extension": ".py",
   "mimetype": "text/x-python",
   "name": "python",
   "nbconvert_exporter": "python",
   "pygments_lexer": "ipython3",
   "version": "3.11.3"
  },
  "vscode": {
   "interpreter": {
    "hash": "d735f6cc625ca8b095620eeb46a50be5e34ded063dbe74c6d5dc8e1ec88bb29c"
   }
  }
 },
 "nbformat": 4,
 "nbformat_minor": 4
}
